{
 "cells": [
  {
   "cell_type": "code",
   "execution_count": 1,
   "metadata": {},
   "outputs": [],
   "source": [
    "from y0.dsl import *"
   ]
  },
  {
   "cell_type": "code",
   "execution_count": 2,
   "metadata": {},
   "outputs": [
    {
     "data": {
      "text/latex": [
       "$1$"
      ],
      "text/plain": [
       "<y0.dsl.One at 0x11229ea30>"
      ]
     },
     "execution_count": 2,
     "metadata": {},
     "output_type": "execute_result"
    }
   ],
   "source": [
    "One()"
   ]
  },
  {
   "cell_type": "code",
   "execution_count": 3,
   "metadata": {},
   "outputs": [
    {
     "data": {
      "text/latex": [
       "$P(A)$"
      ],
      "text/plain": [
       "P(JointProbability(children=[Variable(name='A')]))"
      ]
     },
     "execution_count": 3,
     "metadata": {},
     "output_type": "execute_result"
    }
   ],
   "source": [
    "P(A)"
   ]
  },
  {
   "cell_type": "code",
   "execution_count": 4,
   "metadata": {},
   "outputs": [
    {
     "data": {
      "text/latex": [
       "$P(A_{W})$"
      ],
      "text/plain": [
       "P(JointProbability(children=[CounterfactualVariable(name='A', interventions=[Variable(name='W')])]))"
      ]
     },
     "execution_count": 4,
     "metadata": {},
     "output_type": "execute_result"
    }
   ],
   "source": [
    "P(A @ W)"
   ]
  },
  {
   "cell_type": "code",
   "execution_count": 5,
   "metadata": {},
   "outputs": [
    {
     "data": {
      "text/latex": [
       "$P(A_{W^*})$"
      ],
      "text/plain": [
       "P(JointProbability(children=[CounterfactualVariable(name='A', interventions=[Intervention(name='W', star=True)])]))"
      ]
     },
     "execution_count": 5,
     "metadata": {},
     "output_type": "execute_result"
    }
   ],
   "source": [
    "P(A @ ~W)"
   ]
  },
  {
   "cell_type": "code",
   "execution_count": 6,
   "metadata": {},
   "outputs": [
    {
     "data": {
      "text/latex": [
       "$P(A_{W^*,X})$"
      ],
      "text/plain": [
       "P(JointProbability(children=[CounterfactualVariable(name='A', interventions=[Intervention(name='W', star=True), Variable(name='X')])]))"
      ]
     },
     "execution_count": 6,
     "metadata": {},
     "output_type": "execute_result"
    }
   ],
   "source": [
    "P(A @ ~W @ X)"
   ]
  },
  {
   "cell_type": "code",
   "execution_count": 7,
   "metadata": {},
   "outputs": [
    {
     "data": {
      "text/latex": [
       "$P(A,B)$"
      ],
      "text/plain": [
       "P(JointProbability(children=[Variable(name='A'), Variable(name='B')]))"
      ]
     },
     "execution_count": 7,
     "metadata": {},
     "output_type": "execute_result"
    }
   ],
   "source": [
    "P([A, B])"
   ]
  },
  {
   "cell_type": "code",
   "execution_count": 8,
   "metadata": {},
   "outputs": [
    {
     "data": {
      "text/latex": [
       "$P(A|B)$"
      ],
      "text/plain": [
       "P(ConditionalProbability(child=Variable(name='A'), parents=[Variable(name='B')]))"
      ]
     },
     "execution_count": 8,
     "metadata": {},
     "output_type": "execute_result"
    }
   ],
   "source": [
    "P(A | B)"
   ]
  },
  {
   "cell_type": "code",
   "execution_count": 9,
   "metadata": {},
   "outputs": [
    {
     "data": {
      "text/latex": [
       "$\\frac{1}{P(A|B)}$"
      ],
      "text/plain": [
       "Fraction(numerator=<y0.dsl.One object at 0x1122c7940>, denominator=P(ConditionalProbability(child=Variable(name='A'), parents=[Variable(name='B')])))"
      ]
     },
     "execution_count": 9,
     "metadata": {},
     "output_type": "execute_result"
    }
   ],
   "source": [
    "One() / P(A | B)"
   ]
  },
  {
   "cell_type": "code",
   "execution_count": 10,
   "metadata": {},
   "outputs": [
    {
     "data": {
      "text/latex": [
       "$\\frac{P(A)}{P(A|B)}$"
      ],
      "text/plain": [
       "Fraction(numerator=P(JointProbability(children=[Variable(name='A')])), denominator=P(ConditionalProbability(child=Variable(name='A'), parents=[Variable(name='B')])))"
      ]
     },
     "execution_count": 10,
     "metadata": {},
     "output_type": "execute_result"
    }
   ],
   "source": [
    "(One() / P(A | B)) * P(A)"
   ]
  },
  {
   "cell_type": "code",
   "execution_count": 11,
   "metadata": {},
   "outputs": [
    {
     "data": {
      "text/latex": [
       "$P(A|B)$"
      ],
      "text/plain": [
       "P(ConditionalProbability(child=Variable(name='A'), parents=[Variable(name='B')]))"
      ]
     },
     "execution_count": 11,
     "metadata": {},
     "output_type": "execute_result"
    }
   ],
   "source": [
    "One() * P(A | B)"
   ]
  },
  {
   "cell_type": "code",
   "execution_count": 12,
   "metadata": {},
   "outputs": [
    {
     "data": {
      "text/latex": [
       "$P(A|B) P(B)$"
      ],
      "text/plain": [
       "Product(expressions=[P(ConditionalProbability(child=Variable(name='A'), parents=[Variable(name='B')])), P(JointProbability(children=[Variable(name='B')]))])"
      ]
     },
     "execution_count": 12,
     "metadata": {},
     "output_type": "execute_result"
    }
   ],
   "source": [
    "P(A | B) * P(B)"
   ]
  },
  {
   "cell_type": "code",
   "execution_count": 13,
   "metadata": {},
   "outputs": [
    {
     "data": {
      "text/latex": [
       "$\\sum_{B} P(A|B)$"
      ],
      "text/plain": [
       "Sum(expression=P(ConditionalProbability(child=Variable(name='A'), parents=[Variable(name='B')])), ranges=[Variable(name='B')])"
      ]
     },
     "execution_count": 13,
     "metadata": {},
     "output_type": "execute_result"
    }
   ],
   "source": [
    "Sum[B](P(A | B))"
   ]
  },
  {
   "cell_type": "code",
   "execution_count": 14,
   "metadata": {},
   "outputs": [
    {
     "data": {
      "text/latex": [
       "$\\sum_{S,T} P(A|B) \\sum_{Q} P(C|D)$"
      ],
      "text/plain": [
       "Sum(expression=Product(expressions=[P(ConditionalProbability(child=Variable(name='A'), parents=[Variable(name='B')])), Sum(expression=P(ConditionalProbability(child=Variable(name='C'), parents=[Variable(name='D')])), ranges=[Variable(name='Q')])]), ranges=[Variable(name='S'), Variable(name='T')])"
      ]
     },
     "execution_count": 14,
     "metadata": {},
     "output_type": "execute_result"
    }
   ],
   "source": [
    "Sum(P(A | B) * Sum(P(C | D), [Q]), [S, T])"
   ]
  },
  {
   "cell_type": "code",
   "execution_count": 15,
   "metadata": {},
   "outputs": [
    {
     "data": {
      "text/latex": [
       "$\\sum_{W} P(Y_{Z^*,W},X) P(D) P(Z_{D}) P(W_{X^*})$"
      ],
      "text/plain": [
       "Sum(expression=Product(expressions=[P(JointProbability(children=[CounterfactualVariable(name='Y', interventions=[Intervention(name='Z', star=True), Variable(name='W')]), Variable(name='X')])), P(JointProbability(children=[Variable(name='D')])), P(JointProbability(children=[CounterfactualVariable(name='Z', interventions=[Variable(name='D')])])), P(JointProbability(children=[CounterfactualVariable(name='W', interventions=[Intervention(name='X', star=True)])]))]), ranges=[Variable(name='W')])"
      ]
     },
     "execution_count": 15,
     "metadata": {},
     "output_type": "execute_result"
    }
   ],
   "source": [
    "Sum[W](P((Y @ ~Z @ W) & X) * P(D) * P(Z @ D) * P(W @ ~X))"
   ]
  },
  {
   "cell_type": "code",
   "execution_count": 16,
   "metadata": {},
   "outputs": [
    {
     "data": {
      "text/latex": [
       "$\\frac{P(A) P(D)}{P(B) P(C)}$"
      ],
      "text/plain": [
       "Fraction(numerator=Product(expressions=[P(JointProbability(children=[Variable(name='A')])), P(JointProbability(children=[Variable(name='D')]))]), denominator=Product(expressions=[P(JointProbability(children=[Variable(name='B')])), P(JointProbability(children=[Variable(name='C')]))]))"
      ]
     },
     "execution_count": 16,
     "metadata": {},
     "output_type": "execute_result"
    }
   ],
   "source": [
    "(P(A) / P(B)) / (P(C) / P(D))"
   ]
  }
 ],
 "metadata": {
  "kernelspec": {
   "display_name": "Python 3",
   "language": "python",
   "name": "python3"
  },
  "language_info": {
   "codemirror_mode": {
    "name": "ipython",
    "version": 3
   },
   "file_extension": ".py",
   "mimetype": "text/x-python",
   "name": "python",
   "nbconvert_exporter": "python",
   "pygments_lexer": "ipython3",
   "version": "3.9.1"
  }
 },
 "nbformat": 4,
 "nbformat_minor": 4
}
